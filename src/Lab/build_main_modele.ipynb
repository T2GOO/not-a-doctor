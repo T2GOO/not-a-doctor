{
 "cells": [
  {
   "cell_type": "code",
   "execution_count": 8,
   "metadata": {},
   "outputs": [],
   "source": [
    "import os, time\n",
    "import tensorflow as tf\n",
    "import numpy as np\n",
    "import seaborn as sns\n",
    "import matplotlib.pyplot as plt\n",
    "from tensorflow.keras.preprocessing.image import ImageDataGenerator\n",
    "from tensorflow.keras.layers import Dense, Flatten, Dropout\n",
    "from tensorflow.keras.models import Sequential\n",
    "from tensorflow.keras.applications import VGG19\n",
    "from sklearn.utils.class_weight import compute_class_weight\n",
    "import seaborn as sns"
   ]
  },
  {
   "cell_type": "code",
   "execution_count": 9,
   "metadata": {},
   "outputs": [],
   "source": [
    "root = os.path.dirname(os.path.dirname(os.getcwd()))\n",
    "\n",
    "train_dir = os.path.join(root, 'data', 'current', 'train')\n",
    "\n",
    "IMAGE_DIM = 200\n",
    "NB_CLASS = 3\n",
    "NB_EPOCH = 20\n",
    "L_RATE = 0.001\n",
    "BATCH = 64"
   ]
  },
  {
   "cell_type": "code",
   "execution_count": 10,
   "metadata": {},
   "outputs": [
    {
     "name": "stdout",
     "output_type": "stream",
     "text": [
      "Found 1080 images belonging to 3 classes.\n",
      "Found 269 images belonging to 3 classes.\n"
     ]
    }
   ],
   "source": [
    "datagen_train = ImageDataGenerator(\n",
    "    rescale=1./255,\n",
    "    zoom_range=0.2,             # Zoom\n",
    "    rotation_range=20,          # Rotation des images\n",
    "    width_shift_range=0.001,      # Translation horizontale\n",
    "    height_shift_range=0.001,     # Translation verticale\n",
    "    shear_range=0.01,            # Transformation affine\n",
    "    horizontal_flip=True,       # Symétrie horizontale\n",
    "    fill_mode='nearest',        # Remplir les zones vides après transformation\n",
    "    validation_split=0.2        # Division en validation\n",
    ")\n",
    "\n",
    "train_data = datagen_train.flow_from_directory(\n",
    "    train_dir,\n",
    "    seed = 42,\n",
    "    color_mode = 'rgb',\n",
    "    target_size=(IMAGE_DIM, IMAGE_DIM), \n",
    "    batch_size=BATCH,\n",
    "    class_mode='categorical',      \n",
    "    subset='training'\n",
    ")\n",
    "\n",
    "val_data = datagen_train.flow_from_directory(\n",
    "    train_dir,\n",
    "    seed = 42,\n",
    "    color_mode = 'rgb',\n",
    "    target_size=(IMAGE_DIM, IMAGE_DIM),\n",
    "    batch_size=BATCH,\n",
    "    class_mode='categorical',\n",
    "    subset='validation'\n",
    ")"
   ]
  },
  {
   "cell_type": "code",
   "execution_count": 11,
   "metadata": {},
   "outputs": [],
   "source": [
    "\n",
    "def model_builder (model, name = str(time.time()), epoch = NB_EPOCH, lr = L_RATE):\n",
    "    optimizer = tf.keras.optimizers.Adam(learning_rate=lr)\n",
    "    # -- compile --\n",
    "    model.compile(\n",
    "        optimizer=optimizer,\n",
    "        loss='categorical_crossentropy',\n",
    "        metrics=['accuracy']\n",
    "    )\n",
    "    print(model.summary())\n",
    "    class_weights = dict(enumerate(compute_class_weight(\n",
    "        class_weight='balanced',\n",
    "        classes=np.unique(train_data.classes),\n",
    "        y=train_data.classes\n",
    "    )))\n",
    "    # -- train --\n",
    "    # Use checkpoints\n",
    "    checkpoint_path =  os.path.join(root, 'model', 'checkpoints', 'cp.weights.h5')\n",
    "    # Create a callback that saves the model's weights\n",
    "    cp_callback = tf.keras.callbacks.ModelCheckpoint(filepath=checkpoint_path,\n",
    "                                                    save_weights_only=True,\n",
    "                                                    verbose=1)\n",
    "    early_stopping = tf.keras.callbacks.EarlyStopping(monitor='val_loss', patience=5, restore_best_weights=True)\n",
    "\n",
    "    lr_callback = tf.keras.callbacks.ReduceLROnPlateau(\n",
    "        monitor='val_loss', factor=0.1, patience=3, verbose=1\n",
    "    )\n",
    "    history = model.fit(\n",
    "        train_data,\n",
    "        validation_data=val_data,\n",
    "        epochs=epoch,\n",
    "        callbacks=[cp_callback, lr_callback, early_stopping],\n",
    "        # steps_per_epoch=train_steps,\n",
    "        # validation_steps=val_steps,\n",
    "        class_weight=class_weights\n",
    "    )\n",
    "    # -- save --\n",
    "    save_path =  os.path.join(root, 'model', 'main', 'model_' + name + '.h5')\n",
    "    model.save(save_path)\n",
    "    # -- Evaluate --\n",
    "    test_loss, test_acc = model.evaluate(val_data)\n",
    "    print(f\"Test Accuracy: {test_acc*100:.2f}%\")\n",
    "\n",
    "    # Prédictions sur le set de test\n",
    "    predictions = model.predict(val_data)\n",
    "    predicted_classes = predictions.argmax(axis=1)\n",
    "    print(\"Predictions done.\")\n",
    "\n",
    "    plt.figure(figsize=(12, 4))\n",
    "    plt.subplot(1, 2, 1)\n",
    "    plt.plot(history.history['accuracy'], label='Train Accuracy')\n",
    "    plt.plot(history.history['val_accuracy'], label='Val Accuracy')\n",
    "    plt.legend()\n",
    "    plt.title('Accuracy')\n",
    "\n",
    "    plt.subplot(1, 2, 2)\n",
    "    plt.plot(history.history['loss'], label='Train Loss')\n",
    "    plt.plot(history.history['val_loss'], label='Val Loss')\n",
    "    plt.legend()\n",
    "    plt.title('Loss')\n",
    "\n",
    "    plt.show()\n"
   ]
  },
  {
   "cell_type": "code",
   "execution_count": 12,
   "metadata": {},
   "outputs": [
    {
     "data": {
      "text/html": [
       "<pre style=\"white-space:pre;overflow-x:auto;line-height:normal;font-family:Menlo,'DejaVu Sans Mono',consolas,'Courier New',monospace\"><span style=\"font-weight: bold\">Model: \"sequential_1\"</span>\n",
       "</pre>\n"
      ],
      "text/plain": [
       "\u001b[1mModel: \"sequential_1\"\u001b[0m\n"
      ]
     },
     "metadata": {},
     "output_type": "display_data"
    },
    {
     "data": {
      "text/html": [
       "<pre style=\"white-space:pre;overflow-x:auto;line-height:normal;font-family:Menlo,'DejaVu Sans Mono',consolas,'Courier New',monospace\">┏━━━━━━━━━━━━━━━━━━━━━━━━━━━━━━━━━┳━━━━━━━━━━━━━━━━━━━━━━━━┳━━━━━━━━━━━━━━━┓\n",
       "┃<span style=\"font-weight: bold\"> Layer (type)                    </span>┃<span style=\"font-weight: bold\"> Output Shape           </span>┃<span style=\"font-weight: bold\">       Param # </span>┃\n",
       "┡━━━━━━━━━━━━━━━━━━━━━━━━━━━━━━━━━╇━━━━━━━━━━━━━━━━━━━━━━━━╇━━━━━━━━━━━━━━━┩\n",
       "│ vgg19 (<span style=\"color: #0087ff; text-decoration-color: #0087ff\">Functional</span>)              │ ?                      │    <span style=\"color: #00af00; text-decoration-color: #00af00\">20,024,384</span> │\n",
       "├─────────────────────────────────┼────────────────────────┼───────────────┤\n",
       "│ flatten_1 (<span style=\"color: #0087ff; text-decoration-color: #0087ff\">Flatten</span>)             │ ?                      │   <span style=\"color: #00af00; text-decoration-color: #00af00\">0</span> (unbuilt) │\n",
       "├─────────────────────────────────┼────────────────────────┼───────────────┤\n",
       "│ dense_2 (<span style=\"color: #0087ff; text-decoration-color: #0087ff\">Dense</span>)                 │ ?                      │   <span style=\"color: #00af00; text-decoration-color: #00af00\">0</span> (unbuilt) │\n",
       "├─────────────────────────────────┼────────────────────────┼───────────────┤\n",
       "│ dropout_1 (<span style=\"color: #0087ff; text-decoration-color: #0087ff\">Dropout</span>)             │ ?                      │   <span style=\"color: #00af00; text-decoration-color: #00af00\">0</span> (unbuilt) │\n",
       "├─────────────────────────────────┼────────────────────────┼───────────────┤\n",
       "│ dense_3 (<span style=\"color: #0087ff; text-decoration-color: #0087ff\">Dense</span>)                 │ ?                      │   <span style=\"color: #00af00; text-decoration-color: #00af00\">0</span> (unbuilt) │\n",
       "└─────────────────────────────────┴────────────────────────┴───────────────┘\n",
       "</pre>\n"
      ],
      "text/plain": [
       "┏━━━━━━━━━━━━━━━━━━━━━━━━━━━━━━━━━┳━━━━━━━━━━━━━━━━━━━━━━━━┳━━━━━━━━━━━━━━━┓\n",
       "┃\u001b[1m \u001b[0m\u001b[1mLayer (type)                   \u001b[0m\u001b[1m \u001b[0m┃\u001b[1m \u001b[0m\u001b[1mOutput Shape          \u001b[0m\u001b[1m \u001b[0m┃\u001b[1m \u001b[0m\u001b[1m      Param #\u001b[0m\u001b[1m \u001b[0m┃\n",
       "┡━━━━━━━━━━━━━━━━━━━━━━━━━━━━━━━━━╇━━━━━━━━━━━━━━━━━━━━━━━━╇━━━━━━━━━━━━━━━┩\n",
       "│ vgg19 (\u001b[38;5;33mFunctional\u001b[0m)              │ ?                      │    \u001b[38;5;34m20,024,384\u001b[0m │\n",
       "├─────────────────────────────────┼────────────────────────┼───────────────┤\n",
       "│ flatten_1 (\u001b[38;5;33mFlatten\u001b[0m)             │ ?                      │   \u001b[38;5;34m0\u001b[0m (unbuilt) │\n",
       "├─────────────────────────────────┼────────────────────────┼───────────────┤\n",
       "│ dense_2 (\u001b[38;5;33mDense\u001b[0m)                 │ ?                      │   \u001b[38;5;34m0\u001b[0m (unbuilt) │\n",
       "├─────────────────────────────────┼────────────────────────┼───────────────┤\n",
       "│ dropout_1 (\u001b[38;5;33mDropout\u001b[0m)             │ ?                      │   \u001b[38;5;34m0\u001b[0m (unbuilt) │\n",
       "├─────────────────────────────────┼────────────────────────┼───────────────┤\n",
       "│ dense_3 (\u001b[38;5;33mDense\u001b[0m)                 │ ?                      │   \u001b[38;5;34m0\u001b[0m (unbuilt) │\n",
       "└─────────────────────────────────┴────────────────────────┴───────────────┘\n"
      ]
     },
     "metadata": {},
     "output_type": "display_data"
    },
    {
     "data": {
      "text/html": [
       "<pre style=\"white-space:pre;overflow-x:auto;line-height:normal;font-family:Menlo,'DejaVu Sans Mono',consolas,'Courier New',monospace\"><span style=\"font-weight: bold\"> Total params: </span><span style=\"color: #00af00; text-decoration-color: #00af00\">20,024,384</span> (76.39 MB)\n",
       "</pre>\n"
      ],
      "text/plain": [
       "\u001b[1m Total params: \u001b[0m\u001b[38;5;34m20,024,384\u001b[0m (76.39 MB)\n"
      ]
     },
     "metadata": {},
     "output_type": "display_data"
    },
    {
     "data": {
      "text/html": [
       "<pre style=\"white-space:pre;overflow-x:auto;line-height:normal;font-family:Menlo,'DejaVu Sans Mono',consolas,'Courier New',monospace\"><span style=\"font-weight: bold\"> Trainable params: </span><span style=\"color: #00af00; text-decoration-color: #00af00\">0</span> (0.00 B)\n",
       "</pre>\n"
      ],
      "text/plain": [
       "\u001b[1m Trainable params: \u001b[0m\u001b[38;5;34m0\u001b[0m (0.00 B)\n"
      ]
     },
     "metadata": {},
     "output_type": "display_data"
    },
    {
     "data": {
      "text/html": [
       "<pre style=\"white-space:pre;overflow-x:auto;line-height:normal;font-family:Menlo,'DejaVu Sans Mono',consolas,'Courier New',monospace\"><span style=\"font-weight: bold\"> Non-trainable params: </span><span style=\"color: #00af00; text-decoration-color: #00af00\">20,024,384</span> (76.39 MB)\n",
       "</pre>\n"
      ],
      "text/plain": [
       "\u001b[1m Non-trainable params: \u001b[0m\u001b[38;5;34m20,024,384\u001b[0m (76.39 MB)\n"
      ]
     },
     "metadata": {},
     "output_type": "display_data"
    },
    {
     "name": "stdout",
     "output_type": "stream",
     "text": [
      "None\n",
      "Epoch 1/20\n"
     ]
    },
    {
     "name": "stderr",
     "output_type": "stream",
     "text": [
      "c:\\Users\\tgoor\\AppData\\Local\\Programs\\Python\\Python312\\Lib\\site-packages\\keras\\src\\trainers\\data_adapters\\py_dataset_adapter.py:121: UserWarning: Your `PyDataset` class should call `super().__init__(**kwargs)` in its constructor. `**kwargs` can include `workers`, `use_multiprocessing`, `max_queue_size`. Do not pass these arguments to `fit()`, as they will be ignored.\n",
      "  self._warn_if_super_not_called()\n"
     ]
    },
    {
     "name": "stdout",
     "output_type": "stream",
     "text": [
      "\u001b[1m17/17\u001b[0m \u001b[32m━━━━━━━━━━━━━━━━━━━━\u001b[0m\u001b[37m\u001b[0m \u001b[1m0s\u001b[0m 8s/step - accuracy: 0.4583 - loss: 3.2290\n",
      "Epoch 1: saving model to c:\\Users\\tgoor\\Documents\\Python Scripts\\medical CV\\model\\checkpoints\\cp.weights.h5\n",
      "\u001b[1m17/17\u001b[0m \u001b[32m━━━━━━━━━━━━━━━━━━━━\u001b[0m\u001b[37m\u001b[0m \u001b[1m175s\u001b[0m 10s/step - accuracy: 0.4627 - loss: 3.1767 - val_accuracy: 0.8587 - val_loss: 0.4899 - learning_rate: 0.0010\n",
      "Epoch 2/20\n",
      "\u001b[1m17/17\u001b[0m \u001b[32m━━━━━━━━━━━━━━━━━━━━\u001b[0m\u001b[37m\u001b[0m \u001b[1m0s\u001b[0m 8s/step - accuracy: 0.8050 - loss: 0.5224\n",
      "Epoch 2: saving model to c:\\Users\\tgoor\\Documents\\Python Scripts\\medical CV\\model\\checkpoints\\cp.weights.h5\n",
      "\u001b[1m17/17\u001b[0m \u001b[32m━━━━━━━━━━━━━━━━━━━━\u001b[0m\u001b[37m\u001b[0m \u001b[1m172s\u001b[0m 10s/step - accuracy: 0.8057 - loss: 0.5202 - val_accuracy: 0.9108 - val_loss: 0.2843 - learning_rate: 0.0010\n",
      "Epoch 3/20\n",
      "\u001b[1m17/17\u001b[0m \u001b[32m━━━━━━━━━━━━━━━━━━━━\u001b[0m\u001b[37m\u001b[0m \u001b[1m0s\u001b[0m 8s/step - accuracy: 0.8953 - loss: 0.2834\n",
      "Epoch 3: saving model to c:\\Users\\tgoor\\Documents\\Python Scripts\\medical CV\\model\\checkpoints\\cp.weights.h5\n",
      "\u001b[1m17/17\u001b[0m \u001b[32m━━━━━━━━━━━━━━━━━━━━\u001b[0m\u001b[37m\u001b[0m \u001b[1m172s\u001b[0m 10s/step - accuracy: 0.8954 - loss: 0.2831 - val_accuracy: 0.9442 - val_loss: 0.2204 - learning_rate: 0.0010\n",
      "Epoch 4/20\n",
      "\u001b[1m17/17\u001b[0m \u001b[32m━━━━━━━━━━━━━━━━━━━━\u001b[0m\u001b[37m\u001b[0m \u001b[1m0s\u001b[0m 8s/step - accuracy: 0.9249 - loss: 0.1915\n",
      "Epoch 4: saving model to c:\\Users\\tgoor\\Documents\\Python Scripts\\medical CV\\model\\checkpoints\\cp.weights.h5\n",
      "\u001b[1m17/17\u001b[0m \u001b[32m━━━━━━━━━━━━━━━━━━━━\u001b[0m\u001b[37m\u001b[0m \u001b[1m171s\u001b[0m 10s/step - accuracy: 0.9245 - loss: 0.1924 - val_accuracy: 0.9554 - val_loss: 0.1540 - learning_rate: 0.0010\n",
      "Epoch 5/20\n",
      "\u001b[1m17/17\u001b[0m \u001b[32m━━━━━━━━━━━━━━━━━━━━\u001b[0m\u001b[37m\u001b[0m \u001b[1m0s\u001b[0m 8s/step - accuracy: 0.9229 - loss: 0.2527\n",
      "Epoch 5: saving model to c:\\Users\\tgoor\\Documents\\Python Scripts\\medical CV\\model\\checkpoints\\cp.weights.h5\n",
      "\u001b[1m17/17\u001b[0m \u001b[32m━━━━━━━━━━━━━━━━━━━━\u001b[0m\u001b[37m\u001b[0m \u001b[1m172s\u001b[0m 10s/step - accuracy: 0.9233 - loss: 0.2511 - val_accuracy: 0.9665 - val_loss: 0.1195 - learning_rate: 0.0010\n",
      "Epoch 6/20\n",
      "\u001b[1m17/17\u001b[0m \u001b[32m━━━━━━━━━━━━━━━━━━━━\u001b[0m\u001b[37m\u001b[0m \u001b[1m0s\u001b[0m 8s/step - accuracy: 0.9532 - loss: 0.1673\n",
      "Epoch 6: saving model to c:\\Users\\tgoor\\Documents\\Python Scripts\\medical CV\\model\\checkpoints\\cp.weights.h5\n",
      "\u001b[1m17/17\u001b[0m \u001b[32m━━━━━━━━━━━━━━━━━━━━\u001b[0m\u001b[37m\u001b[0m \u001b[1m172s\u001b[0m 10s/step - accuracy: 0.9528 - loss: 0.1669 - val_accuracy: 0.9703 - val_loss: 0.0957 - learning_rate: 0.0010\n",
      "Epoch 7/20\n",
      "\u001b[1m17/17\u001b[0m \u001b[32m━━━━━━━━━━━━━━━━━━━━\u001b[0m\u001b[37m\u001b[0m \u001b[1m0s\u001b[0m 8s/step - accuracy: 0.9500 - loss: 0.1426\n",
      "Epoch 7: saving model to c:\\Users\\tgoor\\Documents\\Python Scripts\\medical CV\\model\\checkpoints\\cp.weights.h5\n",
      "\u001b[1m17/17\u001b[0m \u001b[32m━━━━━━━━━━━━━━━━━━━━\u001b[0m\u001b[37m\u001b[0m \u001b[1m169s\u001b[0m 10s/step - accuracy: 0.9501 - loss: 0.1424 - val_accuracy: 0.9665 - val_loss: 0.0984 - learning_rate: 0.0010\n",
      "Epoch 8/20\n",
      "\u001b[1m17/17\u001b[0m \u001b[32m━━━━━━━━━━━━━━━━━━━━\u001b[0m\u001b[37m\u001b[0m \u001b[1m0s\u001b[0m 8s/step - accuracy: 0.9441 - loss: 0.1294\n",
      "Epoch 8: saving model to c:\\Users\\tgoor\\Documents\\Python Scripts\\medical CV\\model\\checkpoints\\cp.weights.h5\n",
      "\u001b[1m17/17\u001b[0m \u001b[32m━━━━━━━━━━━━━━━━━━━━\u001b[0m\u001b[37m\u001b[0m \u001b[1m172s\u001b[0m 10s/step - accuracy: 0.9441 - loss: 0.1295 - val_accuracy: 0.9888 - val_loss: 0.0733 - learning_rate: 0.0010\n",
      "Epoch 9/20\n",
      "\u001b[1m17/17\u001b[0m \u001b[32m━━━━━━━━━━━━━━━━━━━━\u001b[0m\u001b[37m\u001b[0m \u001b[1m0s\u001b[0m 8s/step - accuracy: 0.9615 - loss: 0.1170\n",
      "Epoch 9: saving model to c:\\Users\\tgoor\\Documents\\Python Scripts\\medical CV\\model\\checkpoints\\cp.weights.h5\n",
      "\u001b[1m17/17\u001b[0m \u001b[32m━━━━━━━━━━━━━━━━━━━━\u001b[0m\u001b[37m\u001b[0m \u001b[1m172s\u001b[0m 10s/step - accuracy: 0.9612 - loss: 0.1180 - val_accuracy: 0.9703 - val_loss: 0.1000 - learning_rate: 0.0010\n",
      "Epoch 10/20\n",
      "\u001b[1m17/17\u001b[0m \u001b[32m━━━━━━━━━━━━━━━━━━━━\u001b[0m\u001b[37m\u001b[0m \u001b[1m0s\u001b[0m 8s/step - accuracy: 0.9636 - loss: 0.1236\n",
      "Epoch 10: saving model to c:\\Users\\tgoor\\Documents\\Python Scripts\\medical CV\\model\\checkpoints\\cp.weights.h5\n",
      "\u001b[1m17/17\u001b[0m \u001b[32m━━━━━━━━━━━━━━━━━━━━\u001b[0m\u001b[37m\u001b[0m \u001b[1m173s\u001b[0m 10s/step - accuracy: 0.9638 - loss: 0.1230 - val_accuracy: 0.9740 - val_loss: 0.0651 - learning_rate: 0.0010\n",
      "Epoch 11/20\n",
      "\u001b[1m17/17\u001b[0m \u001b[32m━━━━━━━━━━━━━━━━━━━━\u001b[0m\u001b[37m\u001b[0m \u001b[1m0s\u001b[0m 8s/step - accuracy: 0.9603 - loss: 0.1067\n",
      "Epoch 11: saving model to c:\\Users\\tgoor\\Documents\\Python Scripts\\medical CV\\model\\checkpoints\\cp.weights.h5\n",
      "\u001b[1m17/17\u001b[0m \u001b[32m━━━━━━━━━━━━━━━━━━━━\u001b[0m\u001b[37m\u001b[0m \u001b[1m172s\u001b[0m 10s/step - accuracy: 0.9606 - loss: 0.1067 - val_accuracy: 0.9591 - val_loss: 0.0945 - learning_rate: 0.0010\n",
      "Epoch 12/20\n",
      "\u001b[1m17/17\u001b[0m \u001b[32m━━━━━━━━━━━━━━━━━━━━\u001b[0m\u001b[37m\u001b[0m \u001b[1m0s\u001b[0m 8s/step - accuracy: 0.9434 - loss: 0.1062\n",
      "Epoch 12: saving model to c:\\Users\\tgoor\\Documents\\Python Scripts\\medical CV\\model\\checkpoints\\cp.weights.h5\n",
      "\u001b[1m17/17\u001b[0m \u001b[32m━━━━━━━━━━━━━━━━━━━━\u001b[0m\u001b[37m\u001b[0m \u001b[1m172s\u001b[0m 10s/step - accuracy: 0.9440 - loss: 0.1061 - val_accuracy: 0.9591 - val_loss: 0.1099 - learning_rate: 0.0010\n",
      "Epoch 13/20\n",
      "\u001b[1m17/17\u001b[0m \u001b[32m━━━━━━━━━━━━━━━━━━━━\u001b[0m\u001b[37m\u001b[0m \u001b[1m0s\u001b[0m 8s/step - accuracy: 0.9491 - loss: 0.1251\n",
      "Epoch 13: saving model to c:\\Users\\tgoor\\Documents\\Python Scripts\\medical CV\\model\\checkpoints\\cp.weights.h5\n",
      "\n",
      "Epoch 13: ReduceLROnPlateau reducing learning rate to 0.00010000000474974513.\n",
      "\u001b[1m17/17\u001b[0m \u001b[32m━━━━━━━━━━━━━━━━━━━━\u001b[0m\u001b[37m\u001b[0m \u001b[1m185s\u001b[0m 11s/step - accuracy: 0.9500 - loss: 0.1237 - val_accuracy: 0.9777 - val_loss: 0.0876 - learning_rate: 0.0010\n",
      "Epoch 14/20\n",
      "\u001b[1m17/17\u001b[0m \u001b[32m━━━━━━━━━━━━━━━━━━━━\u001b[0m\u001b[37m\u001b[0m \u001b[1m0s\u001b[0m 8s/step - accuracy: 0.9630 - loss: 0.0922\n",
      "Epoch 14: saving model to c:\\Users\\tgoor\\Documents\\Python Scripts\\medical CV\\model\\checkpoints\\cp.weights.h5\n",
      "\u001b[1m17/17\u001b[0m \u001b[32m━━━━━━━━━━━━━━━━━━━━\u001b[0m\u001b[37m\u001b[0m \u001b[1m180s\u001b[0m 10s/step - accuracy: 0.9634 - loss: 0.0916 - val_accuracy: 0.9888 - val_loss: 0.0531 - learning_rate: 1.0000e-04\n",
      "Epoch 15/20\n",
      "\u001b[1m17/17\u001b[0m \u001b[32m━━━━━━━━━━━━━━━━━━━━\u001b[0m\u001b[37m\u001b[0m \u001b[1m0s\u001b[0m 8s/step - accuracy: 0.9855 - loss: 0.0536\n",
      "Epoch 15: saving model to c:\\Users\\tgoor\\Documents\\Python Scripts\\medical CV\\model\\checkpoints\\cp.weights.h5\n",
      "\u001b[1m17/17\u001b[0m \u001b[32m━━━━━━━━━━━━━━━━━━━━\u001b[0m\u001b[37m\u001b[0m \u001b[1m173s\u001b[0m 10s/step - accuracy: 0.9853 - loss: 0.0543 - val_accuracy: 0.9926 - val_loss: 0.0414 - learning_rate: 1.0000e-04\n",
      "Epoch 16/20\n",
      "\u001b[1m17/17\u001b[0m \u001b[32m━━━━━━━━━━━━━━━━━━━━\u001b[0m\u001b[37m\u001b[0m \u001b[1m0s\u001b[0m 8s/step - accuracy: 0.9774 - loss: 0.0773\n",
      "Epoch 16: saving model to c:\\Users\\tgoor\\Documents\\Python Scripts\\medical CV\\model\\checkpoints\\cp.weights.h5\n",
      "\u001b[1m17/17\u001b[0m \u001b[32m━━━━━━━━━━━━━━━━━━━━\u001b[0m\u001b[37m\u001b[0m \u001b[1m172s\u001b[0m 10s/step - accuracy: 0.9775 - loss: 0.0773 - val_accuracy: 0.9851 - val_loss: 0.0572 - learning_rate: 1.0000e-04\n",
      "Epoch 17/20\n",
      "\u001b[1m17/17\u001b[0m \u001b[32m━━━━━━━━━━━━━━━━━━━━\u001b[0m\u001b[37m\u001b[0m \u001b[1m0s\u001b[0m 8s/step - accuracy: 0.9809 - loss: 0.0643\n",
      "Epoch 17: saving model to c:\\Users\\tgoor\\Documents\\Python Scripts\\medical CV\\model\\checkpoints\\cp.weights.h5\n",
      "\u001b[1m17/17\u001b[0m \u001b[32m━━━━━━━━━━━━━━━━━━━━\u001b[0m\u001b[37m\u001b[0m \u001b[1m173s\u001b[0m 10s/step - accuracy: 0.9808 - loss: 0.0641 - val_accuracy: 0.9851 - val_loss: 0.0540 - learning_rate: 1.0000e-04\n",
      "Epoch 18/20\n",
      "\u001b[1m17/17\u001b[0m \u001b[32m━━━━━━━━━━━━━━━━━━━━\u001b[0m\u001b[37m\u001b[0m \u001b[1m0s\u001b[0m 8s/step - accuracy: 0.9808 - loss: 0.0591\n",
      "Epoch 18: saving model to c:\\Users\\tgoor\\Documents\\Python Scripts\\medical CV\\model\\checkpoints\\cp.weights.h5\n",
      "\n",
      "Epoch 18: ReduceLROnPlateau reducing learning rate to 1.0000000474974514e-05.\n",
      "\u001b[1m17/17\u001b[0m \u001b[32m━━━━━━━━━━━━━━━━━━━━\u001b[0m\u001b[37m\u001b[0m \u001b[1m173s\u001b[0m 10s/step - accuracy: 0.9808 - loss: 0.0593 - val_accuracy: 0.9926 - val_loss: 0.0433 - learning_rate: 1.0000e-04\n",
      "Epoch 19/20\n",
      "\u001b[1m17/17\u001b[0m \u001b[32m━━━━━━━━━━━━━━━━━━━━\u001b[0m\u001b[37m\u001b[0m \u001b[1m0s\u001b[0m 8s/step - accuracy: 0.9756 - loss: 0.0760\n",
      "Epoch 19: saving model to c:\\Users\\tgoor\\Documents\\Python Scripts\\medical CV\\model\\checkpoints\\cp.weights.h5\n",
      "\u001b[1m17/17\u001b[0m \u001b[32m━━━━━━━━━━━━━━━━━━━━\u001b[0m\u001b[37m\u001b[0m \u001b[1m172s\u001b[0m 10s/step - accuracy: 0.9758 - loss: 0.0754 - val_accuracy: 0.9814 - val_loss: 0.0463 - learning_rate: 1.0000e-05\n",
      "Epoch 20/20\n",
      "\u001b[1m17/17\u001b[0m \u001b[32m━━━━━━━━━━━━━━━━━━━━\u001b[0m\u001b[37m\u001b[0m \u001b[1m0s\u001b[0m 8s/step - accuracy: 0.9723 - loss: 0.0851\n",
      "Epoch 20: saving model to c:\\Users\\tgoor\\Documents\\Python Scripts\\medical CV\\model\\checkpoints\\cp.weights.h5\n",
      "\u001b[1m17/17\u001b[0m \u001b[32m━━━━━━━━━━━━━━━━━━━━\u001b[0m\u001b[37m\u001b[0m \u001b[1m173s\u001b[0m 10s/step - accuracy: 0.9725 - loss: 0.0845 - val_accuracy: 0.9814 - val_loss: 0.0686 - learning_rate: 1.0000e-05\n"
     ]
    },
    {
     "name": "stderr",
     "output_type": "stream",
     "text": [
      "WARNING:absl:You are saving your model as an HDF5 file via `model.save()` or `keras.saving.save_model(model)`. This file format is considered legacy. We recommend using instead the native Keras format, e.g. `model.save('my_model.keras')` or `keras.saving.save_model(model, 'my_model.keras')`. \n"
     ]
    },
    {
     "name": "stdout",
     "output_type": "stream",
     "text": [
      "\u001b[1m5/5\u001b[0m \u001b[32m━━━━━━━━━━━━━━━━━━━━\u001b[0m\u001b[37m\u001b[0m \u001b[1m33s\u001b[0m 6s/step - accuracy: 0.9838 - loss: 0.0361\n",
      "Test Accuracy: 98.51%\n",
      "\u001b[1m5/5\u001b[0m \u001b[32m━━━━━━━━━━━━━━━━━━━━\u001b[0m\u001b[37m\u001b[0m \u001b[1m34s\u001b[0m 6s/step\n",
      "Predictions done.\n"
     ]
    },
    {
     "data": {
      "image/png": "[encoded data removed]",
      "text/plain": [
       "<Figure size 1200x400 with 2 Axes>"
      ]
     },
     "metadata": {},
     "output_type": "display_data"
    }
   ],
   "source": [
    "base_model = VGG19(weights='imagenet', include_top=False, input_shape=(IMAGE_DIM,IMAGE_DIM,3))\n",
    "# Freeze les couches de base\n",
    "for layer in base_model.layers:\n",
    "    layer.trainable = False\n",
    "\n",
    "model = Sequential()\n",
    "model.add(base_model)\n",
    "model.add(Flatten())\n",
    "model.add(Dense(300, activation='relu'))\n",
    "model.add(Dropout(0.5))\n",
    "model.add(Dense(3, activation='softmax'))\n",
    "\n",
    "# VGG16\n",
    "model_builder(model,'VGG19_512')"
   ]
  }
 ],
 "metadata": {
  "kernelspec": {
   "display_name": "Python 3",
   "language": "python",
   "name": "python3"
  },
  "language_info": {
   "codemirror_mode": {
    "name": "ipython",
    "version": 3
   },
   "file_extension": ".py",
   "mimetype": "text/x-python",
   "name": "python",
   "nbconvert_exporter": "python",
   "pygments_lexer": "ipython3",
   "version": "3.12.3"
  }
 },
 "nbformat": 4,
 "nbformat_minor": 2
}
